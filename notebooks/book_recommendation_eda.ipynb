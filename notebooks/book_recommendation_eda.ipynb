{
 "cells": [
  {
   "cell_type": "markdown",
   "metadata": {},
   "source": [
    "# Build A Book Recommendation System With Machine Learning\n",
    "\n",
    "## Project Overview\n",
    "- **Goals**: Recommend books!\n",
    "- **Needs**:\n",
    "    - List of books we like\n",
    "    - Get recommendations of books that we have not read yet from users who like books that we like.\n",
    "\n",
    "**Dataset**: [Kaggle](https://www.kaggle.com/datasets/arashnic/book-recommendation-dataset)\n",
    "\n",
    "## Project Steps\n",
    "01. **Search For Books**: Build search engine to find search books on title and find the book ids of the books we like.\n",
    "02. **Create Book List**: Create a list of book ids of the books that we like\n",
    "03. **Recommend Books**: Use the list of books we like to recommend that we might like that we haven't read yet. We do that by finding users who like books that we like and what other books that they like. And so we use those books as recommendations that we might like to read."
   ]
  },
  {
   "cell_type": "code",
   "execution_count": 1,
   "metadata": {},
   "outputs": [],
   "source": [
    "import pandas as pd\n",
    "import numpy as np\n",
    "import matplotlib.pyplot as plt\n",
    "from pathlib import Path"
   ]
  },
  {
   "cell_type": "code",
   "execution_count": 2,
   "metadata": {},
   "outputs": [],
   "source": [
    "data = Path(\"../datasets/\")"
   ]
  },
  {
   "cell_type": "code",
   "execution_count": 3,
   "metadata": {},
   "outputs": [
    {
     "data": {
      "text/plain": [
       "[PosixPath('../datasets/Users.csv'),\n",
       " PosixPath('../datasets/Ratings.csv'),\n",
       " PosixPath('../datasets/Books.csv')]"
      ]
     },
     "execution_count": 3,
     "metadata": {},
     "output_type": "execute_result"
    }
   ],
   "source": [
    "data_files = list(data.glob(\"*.csv\"))\n",
    "data_files"
   ]
  },
  {
   "cell_type": "code",
   "execution_count": 4,
   "metadata": {},
   "outputs": [
    {
     "name": "stderr",
     "output_type": "stream",
     "text": [
      "/var/folders/cm/ffpb6rrs0774hy99nscfj5lw0000gn/T/ipykernel_23894/1327942019.py:1: DtypeWarning: Columns (3) have mixed types. Specify dtype option on import or set low_memory=False.\n",
      "  df_books = pd.read_csv(data / \"Books.csv\")\n"
     ]
    },
    {
     "data": {
      "text/html": [
       "<div>\n",
       "<style scoped>\n",
       "    .dataframe tbody tr th:only-of-type {\n",
       "        vertical-align: middle;\n",
       "    }\n",
       "\n",
       "    .dataframe tbody tr th {\n",
       "        vertical-align: top;\n",
       "    }\n",
       "\n",
       "    .dataframe thead th {\n",
       "        text-align: right;\n",
       "    }\n",
       "</style>\n",
       "<table border=\"1\" class=\"dataframe\">\n",
       "  <thead>\n",
       "    <tr style=\"text-align: right;\">\n",
       "      <th></th>\n",
       "      <th>ISBN</th>\n",
       "      <th>Book-Title</th>\n",
       "      <th>Book-Author</th>\n",
       "      <th>Year-Of-Publication</th>\n",
       "      <th>Publisher</th>\n",
       "      <th>Image-URL-S</th>\n",
       "      <th>Image-URL-M</th>\n",
       "      <th>Image-URL-L</th>\n",
       "    </tr>\n",
       "  </thead>\n",
       "  <tbody>\n",
       "    <tr>\n",
       "      <th>0</th>\n",
       "      <td>0195153448</td>\n",
       "      <td>Classical Mythology</td>\n",
       "      <td>Mark P. O. Morford</td>\n",
       "      <td>2002</td>\n",
       "      <td>Oxford University Press</td>\n",
       "      <td>http://images.amazon.com/images/P/0195153448.0...</td>\n",
       "      <td>http://images.amazon.com/images/P/0195153448.0...</td>\n",
       "      <td>http://images.amazon.com/images/P/0195153448.0...</td>\n",
       "    </tr>\n",
       "    <tr>\n",
       "      <th>1</th>\n",
       "      <td>0002005018</td>\n",
       "      <td>Clara Callan</td>\n",
       "      <td>Richard Bruce Wright</td>\n",
       "      <td>2001</td>\n",
       "      <td>HarperFlamingo Canada</td>\n",
       "      <td>http://images.amazon.com/images/P/0002005018.0...</td>\n",
       "      <td>http://images.amazon.com/images/P/0002005018.0...</td>\n",
       "      <td>http://images.amazon.com/images/P/0002005018.0...</td>\n",
       "    </tr>\n",
       "    <tr>\n",
       "      <th>2</th>\n",
       "      <td>0060973129</td>\n",
       "      <td>Decision in Normandy</td>\n",
       "      <td>Carlo D'Este</td>\n",
       "      <td>1991</td>\n",
       "      <td>HarperPerennial</td>\n",
       "      <td>http://images.amazon.com/images/P/0060973129.0...</td>\n",
       "      <td>http://images.amazon.com/images/P/0060973129.0...</td>\n",
       "      <td>http://images.amazon.com/images/P/0060973129.0...</td>\n",
       "    </tr>\n",
       "    <tr>\n",
       "      <th>3</th>\n",
       "      <td>0374157065</td>\n",
       "      <td>Flu: The Story of the Great Influenza Pandemic...</td>\n",
       "      <td>Gina Bari Kolata</td>\n",
       "      <td>1999</td>\n",
       "      <td>Farrar Straus Giroux</td>\n",
       "      <td>http://images.amazon.com/images/P/0374157065.0...</td>\n",
       "      <td>http://images.amazon.com/images/P/0374157065.0...</td>\n",
       "      <td>http://images.amazon.com/images/P/0374157065.0...</td>\n",
       "    </tr>\n",
       "    <tr>\n",
       "      <th>4</th>\n",
       "      <td>0393045218</td>\n",
       "      <td>The Mummies of Urumchi</td>\n",
       "      <td>E. J. W. Barber</td>\n",
       "      <td>1999</td>\n",
       "      <td>W. W. Norton &amp;amp; Company</td>\n",
       "      <td>http://images.amazon.com/images/P/0393045218.0...</td>\n",
       "      <td>http://images.amazon.com/images/P/0393045218.0...</td>\n",
       "      <td>http://images.amazon.com/images/P/0393045218.0...</td>\n",
       "    </tr>\n",
       "  </tbody>\n",
       "</table>\n",
       "</div>"
      ],
      "text/plain": [
       "         ISBN                                         Book-Title  \\\n",
       "0  0195153448                                Classical Mythology   \n",
       "1  0002005018                                       Clara Callan   \n",
       "2  0060973129                               Decision in Normandy   \n",
       "3  0374157065  Flu: The Story of the Great Influenza Pandemic...   \n",
       "4  0393045218                             The Mummies of Urumchi   \n",
       "\n",
       "            Book-Author Year-Of-Publication                   Publisher  \\\n",
       "0    Mark P. O. Morford                2002     Oxford University Press   \n",
       "1  Richard Bruce Wright                2001       HarperFlamingo Canada   \n",
       "2          Carlo D'Este                1991             HarperPerennial   \n",
       "3      Gina Bari Kolata                1999        Farrar Straus Giroux   \n",
       "4       E. J. W. Barber                1999  W. W. Norton &amp; Company   \n",
       "\n",
       "                                         Image-URL-S  \\\n",
       "0  http://images.amazon.com/images/P/0195153448.0...   \n",
       "1  http://images.amazon.com/images/P/0002005018.0...   \n",
       "2  http://images.amazon.com/images/P/0060973129.0...   \n",
       "3  http://images.amazon.com/images/P/0374157065.0...   \n",
       "4  http://images.amazon.com/images/P/0393045218.0...   \n",
       "\n",
       "                                         Image-URL-M  \\\n",
       "0  http://images.amazon.com/images/P/0195153448.0...   \n",
       "1  http://images.amazon.com/images/P/0002005018.0...   \n",
       "2  http://images.amazon.com/images/P/0060973129.0...   \n",
       "3  http://images.amazon.com/images/P/0374157065.0...   \n",
       "4  http://images.amazon.com/images/P/0393045218.0...   \n",
       "\n",
       "                                         Image-URL-L  \n",
       "0  http://images.amazon.com/images/P/0195153448.0...  \n",
       "1  http://images.amazon.com/images/P/0002005018.0...  \n",
       "2  http://images.amazon.com/images/P/0060973129.0...  \n",
       "3  http://images.amazon.com/images/P/0374157065.0...  \n",
       "4  http://images.amazon.com/images/P/0393045218.0...  "
      ]
     },
     "execution_count": 4,
     "metadata": {},
     "output_type": "execute_result"
    }
   ],
   "source": [
    "df_books = pd.read_csv(data / \"Books.csv\")\n",
    "df_books.head()"
   ]
  },
  {
   "cell_type": "code",
   "execution_count": 5,
   "metadata": {},
   "outputs": [
    {
     "data": {
      "text/plain": [
       "(271360, 8)"
      ]
     },
     "execution_count": 5,
     "metadata": {},
     "output_type": "execute_result"
    }
   ],
   "source": [
    "df_books.shape"
   ]
  },
  {
   "cell_type": "code",
   "execution_count": null,
   "metadata": {},
   "outputs": [],
   "source": []
  },
  {
   "cell_type": "code",
   "execution_count": 6,
   "metadata": {},
   "outputs": [
    {
     "data": {
      "text/html": [
       "<div>\n",
       "<style scoped>\n",
       "    .dataframe tbody tr th:only-of-type {\n",
       "        vertical-align: middle;\n",
       "    }\n",
       "\n",
       "    .dataframe tbody tr th {\n",
       "        vertical-align: top;\n",
       "    }\n",
       "\n",
       "    .dataframe thead th {\n",
       "        text-align: right;\n",
       "    }\n",
       "</style>\n",
       "<table border=\"1\" class=\"dataframe\">\n",
       "  <thead>\n",
       "    <tr style=\"text-align: right;\">\n",
       "      <th></th>\n",
       "      <th>User-ID</th>\n",
       "      <th>Location</th>\n",
       "      <th>Age</th>\n",
       "    </tr>\n",
       "  </thead>\n",
       "  <tbody>\n",
       "    <tr>\n",
       "      <th>0</th>\n",
       "      <td>1</td>\n",
       "      <td>nyc, new york, usa</td>\n",
       "      <td>NaN</td>\n",
       "    </tr>\n",
       "    <tr>\n",
       "      <th>1</th>\n",
       "      <td>2</td>\n",
       "      <td>stockton, california, usa</td>\n",
       "      <td>18.0</td>\n",
       "    </tr>\n",
       "    <tr>\n",
       "      <th>2</th>\n",
       "      <td>3</td>\n",
       "      <td>moscow, yukon territory, russia</td>\n",
       "      <td>NaN</td>\n",
       "    </tr>\n",
       "    <tr>\n",
       "      <th>3</th>\n",
       "      <td>4</td>\n",
       "      <td>porto, v.n.gaia, portugal</td>\n",
       "      <td>17.0</td>\n",
       "    </tr>\n",
       "    <tr>\n",
       "      <th>4</th>\n",
       "      <td>5</td>\n",
       "      <td>farnborough, hants, united kingdom</td>\n",
       "      <td>NaN</td>\n",
       "    </tr>\n",
       "  </tbody>\n",
       "</table>\n",
       "</div>"
      ],
      "text/plain": [
       "   User-ID                            Location   Age\n",
       "0        1                  nyc, new york, usa   NaN\n",
       "1        2           stockton, california, usa  18.0\n",
       "2        3     moscow, yukon territory, russia   NaN\n",
       "3        4           porto, v.n.gaia, portugal  17.0\n",
       "4        5  farnborough, hants, united kingdom   NaN"
      ]
     },
     "execution_count": 6,
     "metadata": {},
     "output_type": "execute_result"
    }
   ],
   "source": [
    "df_users = pd.read_csv(data / \"Users.csv\")\n",
    "df_users.head()"
   ]
  },
  {
   "cell_type": "code",
   "execution_count": 7,
   "metadata": {},
   "outputs": [
    {
     "data": {
      "text/plain": [
       "(278858, 3)"
      ]
     },
     "execution_count": 7,
     "metadata": {},
     "output_type": "execute_result"
    }
   ],
   "source": [
    "df_users.shape"
   ]
  },
  {
   "cell_type": "code",
   "execution_count": null,
   "metadata": {},
   "outputs": [],
   "source": []
  },
  {
   "cell_type": "code",
   "execution_count": 8,
   "metadata": {},
   "outputs": [
    {
     "data": {
      "text/html": [
       "<div>\n",
       "<style scoped>\n",
       "    .dataframe tbody tr th:only-of-type {\n",
       "        vertical-align: middle;\n",
       "    }\n",
       "\n",
       "    .dataframe tbody tr th {\n",
       "        vertical-align: top;\n",
       "    }\n",
       "\n",
       "    .dataframe thead th {\n",
       "        text-align: right;\n",
       "    }\n",
       "</style>\n",
       "<table border=\"1\" class=\"dataframe\">\n",
       "  <thead>\n",
       "    <tr style=\"text-align: right;\">\n",
       "      <th></th>\n",
       "      <th>User-ID</th>\n",
       "      <th>ISBN</th>\n",
       "      <th>Book-Rating</th>\n",
       "    </tr>\n",
       "  </thead>\n",
       "  <tbody>\n",
       "    <tr>\n",
       "      <th>0</th>\n",
       "      <td>276725</td>\n",
       "      <td>034545104X</td>\n",
       "      <td>0</td>\n",
       "    </tr>\n",
       "    <tr>\n",
       "      <th>1</th>\n",
       "      <td>276726</td>\n",
       "      <td>0155061224</td>\n",
       "      <td>5</td>\n",
       "    </tr>\n",
       "    <tr>\n",
       "      <th>2</th>\n",
       "      <td>276727</td>\n",
       "      <td>0446520802</td>\n",
       "      <td>0</td>\n",
       "    </tr>\n",
       "    <tr>\n",
       "      <th>3</th>\n",
       "      <td>276729</td>\n",
       "      <td>052165615X</td>\n",
       "      <td>3</td>\n",
       "    </tr>\n",
       "    <tr>\n",
       "      <th>4</th>\n",
       "      <td>276729</td>\n",
       "      <td>0521795028</td>\n",
       "      <td>6</td>\n",
       "    </tr>\n",
       "  </tbody>\n",
       "</table>\n",
       "</div>"
      ],
      "text/plain": [
       "   User-ID        ISBN  Book-Rating\n",
       "0   276725  034545104X            0\n",
       "1   276726  0155061224            5\n",
       "2   276727  0446520802            0\n",
       "3   276729  052165615X            3\n",
       "4   276729  0521795028            6"
      ]
     },
     "execution_count": 8,
     "metadata": {},
     "output_type": "execute_result"
    }
   ],
   "source": [
    "df_ratings = pd.read_csv(data / \"Ratings.csv\")\n",
    "df_ratings.head()"
   ]
  },
  {
   "cell_type": "code",
   "execution_count": 9,
   "metadata": {},
   "outputs": [
    {
     "data": {
      "text/plain": [
       "(1149780, 3)"
      ]
     },
     "execution_count": 9,
     "metadata": {},
     "output_type": "execute_result"
    }
   ],
   "source": [
    "df_ratings.shape"
   ]
  },
  {
   "cell_type": "code",
   "execution_count": null,
   "metadata": {},
   "outputs": [],
   "source": []
  },
  {
   "cell_type": "markdown",
   "metadata": {},
   "source": [
    "### EDA Books Dataframe"
   ]
  },
  {
   "cell_type": "code",
   "execution_count": 10,
   "metadata": {},
   "outputs": [
    {
     "data": {
      "text/html": [
       "<div>\n",
       "<style scoped>\n",
       "    .dataframe tbody tr th:only-of-type {\n",
       "        vertical-align: middle;\n",
       "    }\n",
       "\n",
       "    .dataframe tbody tr th {\n",
       "        vertical-align: top;\n",
       "    }\n",
       "\n",
       "    .dataframe thead th {\n",
       "        text-align: right;\n",
       "    }\n",
       "</style>\n",
       "<table border=\"1\" class=\"dataframe\">\n",
       "  <thead>\n",
       "    <tr style=\"text-align: right;\">\n",
       "      <th></th>\n",
       "      <th>isbn</th>\n",
       "      <th>book_title</th>\n",
       "      <th>book_author</th>\n",
       "      <th>year_of_publication</th>\n",
       "      <th>publisher</th>\n",
       "      <th>image_url_s</th>\n",
       "      <th>image_url_m</th>\n",
       "      <th>image_url_l</th>\n",
       "    </tr>\n",
       "  </thead>\n",
       "  <tbody>\n",
       "    <tr>\n",
       "      <th>0</th>\n",
       "      <td>0195153448</td>\n",
       "      <td>Classical Mythology</td>\n",
       "      <td>Mark P. O. Morford</td>\n",
       "      <td>2002</td>\n",
       "      <td>Oxford University Press</td>\n",
       "      <td>http://images.amazon.com/images/P/0195153448.0...</td>\n",
       "      <td>http://images.amazon.com/images/P/0195153448.0...</td>\n",
       "      <td>http://images.amazon.com/images/P/0195153448.0...</td>\n",
       "    </tr>\n",
       "    <tr>\n",
       "      <th>1</th>\n",
       "      <td>0002005018</td>\n",
       "      <td>Clara Callan</td>\n",
       "      <td>Richard Bruce Wright</td>\n",
       "      <td>2001</td>\n",
       "      <td>HarperFlamingo Canada</td>\n",
       "      <td>http://images.amazon.com/images/P/0002005018.0...</td>\n",
       "      <td>http://images.amazon.com/images/P/0002005018.0...</td>\n",
       "      <td>http://images.amazon.com/images/P/0002005018.0...</td>\n",
       "    </tr>\n",
       "    <tr>\n",
       "      <th>2</th>\n",
       "      <td>0060973129</td>\n",
       "      <td>Decision in Normandy</td>\n",
       "      <td>Carlo D'Este</td>\n",
       "      <td>1991</td>\n",
       "      <td>HarperPerennial</td>\n",
       "      <td>http://images.amazon.com/images/P/0060973129.0...</td>\n",
       "      <td>http://images.amazon.com/images/P/0060973129.0...</td>\n",
       "      <td>http://images.amazon.com/images/P/0060973129.0...</td>\n",
       "    </tr>\n",
       "    <tr>\n",
       "      <th>3</th>\n",
       "      <td>0374157065</td>\n",
       "      <td>Flu: The Story of the Great Influenza Pandemic...</td>\n",
       "      <td>Gina Bari Kolata</td>\n",
       "      <td>1999</td>\n",
       "      <td>Farrar Straus Giroux</td>\n",
       "      <td>http://images.amazon.com/images/P/0374157065.0...</td>\n",
       "      <td>http://images.amazon.com/images/P/0374157065.0...</td>\n",
       "      <td>http://images.amazon.com/images/P/0374157065.0...</td>\n",
       "    </tr>\n",
       "    <tr>\n",
       "      <th>4</th>\n",
       "      <td>0393045218</td>\n",
       "      <td>The Mummies of Urumchi</td>\n",
       "      <td>E. J. W. Barber</td>\n",
       "      <td>1999</td>\n",
       "      <td>W. W. Norton &amp;amp; Company</td>\n",
       "      <td>http://images.amazon.com/images/P/0393045218.0...</td>\n",
       "      <td>http://images.amazon.com/images/P/0393045218.0...</td>\n",
       "      <td>http://images.amazon.com/images/P/0393045218.0...</td>\n",
       "    </tr>\n",
       "  </tbody>\n",
       "</table>\n",
       "</div>"
      ],
      "text/plain": [
       "         isbn                                         book_title  \\\n",
       "0  0195153448                                Classical Mythology   \n",
       "1  0002005018                                       Clara Callan   \n",
       "2  0060973129                               Decision in Normandy   \n",
       "3  0374157065  Flu: The Story of the Great Influenza Pandemic...   \n",
       "4  0393045218                             The Mummies of Urumchi   \n",
       "\n",
       "            book_author year_of_publication                   publisher  \\\n",
       "0    Mark P. O. Morford                2002     Oxford University Press   \n",
       "1  Richard Bruce Wright                2001       HarperFlamingo Canada   \n",
       "2          Carlo D'Este                1991             HarperPerennial   \n",
       "3      Gina Bari Kolata                1999        Farrar Straus Giroux   \n",
       "4       E. J. W. Barber                1999  W. W. Norton &amp; Company   \n",
       "\n",
       "                                         image_url_s  \\\n",
       "0  http://images.amazon.com/images/P/0195153448.0...   \n",
       "1  http://images.amazon.com/images/P/0002005018.0...   \n",
       "2  http://images.amazon.com/images/P/0060973129.0...   \n",
       "3  http://images.amazon.com/images/P/0374157065.0...   \n",
       "4  http://images.amazon.com/images/P/0393045218.0...   \n",
       "\n",
       "                                         image_url_m  \\\n",
       "0  http://images.amazon.com/images/P/0195153448.0...   \n",
       "1  http://images.amazon.com/images/P/0002005018.0...   \n",
       "2  http://images.amazon.com/images/P/0060973129.0...   \n",
       "3  http://images.amazon.com/images/P/0374157065.0...   \n",
       "4  http://images.amazon.com/images/P/0393045218.0...   \n",
       "\n",
       "                                         image_url_l  \n",
       "0  http://images.amazon.com/images/P/0195153448.0...  \n",
       "1  http://images.amazon.com/images/P/0002005018.0...  \n",
       "2  http://images.amazon.com/images/P/0060973129.0...  \n",
       "3  http://images.amazon.com/images/P/0374157065.0...  \n",
       "4  http://images.amazon.com/images/P/0393045218.0...  "
      ]
     },
     "execution_count": 10,
     "metadata": {},
     "output_type": "execute_result"
    }
   ],
   "source": [
    "df_books.columns = df_books.columns.str.lower().str.replace(\"-\", \"_\")\n",
    "df_books.head()"
   ]
  },
  {
   "cell_type": "code",
   "execution_count": 11,
   "metadata": {},
   "outputs": [],
   "source": [
    "# Modify the book title to optimize the search later\n",
    "# Replace any characters that are not alphanumeric or spaces and lowercase the titles to optimize search\n",
    "# Replace more spaces with only one space\n",
    "df_books[\"mod_title\"] = df_books[\"book_title\"].str.replace(\"[^a-zA-Z0-9 ]\", \"\", regex=True)\n",
    "df_books[\"mod_title\"] = df_books[\"mod_title\"].str.lower()\n",
    "df_books[\"mod_title\"] = df_books[\"mod_title\"].str.replace(\"\\s+\", \" \", regex=True)"
   ]
  },
  {
   "cell_type": "code",
   "execution_count": 12,
   "metadata": {},
   "outputs": [
    {
     "data": {
      "text/html": [
       "<div>\n",
       "<style scoped>\n",
       "    .dataframe tbody tr th:only-of-type {\n",
       "        vertical-align: middle;\n",
       "    }\n",
       "\n",
       "    .dataframe tbody tr th {\n",
       "        vertical-align: top;\n",
       "    }\n",
       "\n",
       "    .dataframe thead th {\n",
       "        text-align: right;\n",
       "    }\n",
       "</style>\n",
       "<table border=\"1\" class=\"dataframe\">\n",
       "  <thead>\n",
       "    <tr style=\"text-align: right;\">\n",
       "      <th></th>\n",
       "      <th>isbn</th>\n",
       "      <th>book_title</th>\n",
       "      <th>book_author</th>\n",
       "      <th>year_of_publication</th>\n",
       "      <th>publisher</th>\n",
       "      <th>image_url_s</th>\n",
       "      <th>image_url_m</th>\n",
       "      <th>image_url_l</th>\n",
       "      <th>mod_title</th>\n",
       "    </tr>\n",
       "  </thead>\n",
       "  <tbody>\n",
       "    <tr>\n",
       "      <th>0</th>\n",
       "      <td>0195153448</td>\n",
       "      <td>Classical Mythology</td>\n",
       "      <td>Mark P. O. Morford</td>\n",
       "      <td>2002</td>\n",
       "      <td>Oxford University Press</td>\n",
       "      <td>http://images.amazon.com/images/P/0195153448.0...</td>\n",
       "      <td>http://images.amazon.com/images/P/0195153448.0...</td>\n",
       "      <td>http://images.amazon.com/images/P/0195153448.0...</td>\n",
       "      <td>classical mythology</td>\n",
       "    </tr>\n",
       "    <tr>\n",
       "      <th>1</th>\n",
       "      <td>0002005018</td>\n",
       "      <td>Clara Callan</td>\n",
       "      <td>Richard Bruce Wright</td>\n",
       "      <td>2001</td>\n",
       "      <td>HarperFlamingo Canada</td>\n",
       "      <td>http://images.amazon.com/images/P/0002005018.0...</td>\n",
       "      <td>http://images.amazon.com/images/P/0002005018.0...</td>\n",
       "      <td>http://images.amazon.com/images/P/0002005018.0...</td>\n",
       "      <td>clara callan</td>\n",
       "    </tr>\n",
       "    <tr>\n",
       "      <th>2</th>\n",
       "      <td>0060973129</td>\n",
       "      <td>Decision in Normandy</td>\n",
       "      <td>Carlo D'Este</td>\n",
       "      <td>1991</td>\n",
       "      <td>HarperPerennial</td>\n",
       "      <td>http://images.amazon.com/images/P/0060973129.0...</td>\n",
       "      <td>http://images.amazon.com/images/P/0060973129.0...</td>\n",
       "      <td>http://images.amazon.com/images/P/0060973129.0...</td>\n",
       "      <td>decision in normandy</td>\n",
       "    </tr>\n",
       "    <tr>\n",
       "      <th>3</th>\n",
       "      <td>0374157065</td>\n",
       "      <td>Flu: The Story of the Great Influenza Pandemic...</td>\n",
       "      <td>Gina Bari Kolata</td>\n",
       "      <td>1999</td>\n",
       "      <td>Farrar Straus Giroux</td>\n",
       "      <td>http://images.amazon.com/images/P/0374157065.0...</td>\n",
       "      <td>http://images.amazon.com/images/P/0374157065.0...</td>\n",
       "      <td>http://images.amazon.com/images/P/0374157065.0...</td>\n",
       "      <td>flu the story of the great influenza pandemic ...</td>\n",
       "    </tr>\n",
       "    <tr>\n",
       "      <th>4</th>\n",
       "      <td>0393045218</td>\n",
       "      <td>The Mummies of Urumchi</td>\n",
       "      <td>E. J. W. Barber</td>\n",
       "      <td>1999</td>\n",
       "      <td>W. W. Norton &amp;amp; Company</td>\n",
       "      <td>http://images.amazon.com/images/P/0393045218.0...</td>\n",
       "      <td>http://images.amazon.com/images/P/0393045218.0...</td>\n",
       "      <td>http://images.amazon.com/images/P/0393045218.0...</td>\n",
       "      <td>the mummies of urumchi</td>\n",
       "    </tr>\n",
       "  </tbody>\n",
       "</table>\n",
       "</div>"
      ],
      "text/plain": [
       "         isbn                                         book_title  \\\n",
       "0  0195153448                                Classical Mythology   \n",
       "1  0002005018                                       Clara Callan   \n",
       "2  0060973129                               Decision in Normandy   \n",
       "3  0374157065  Flu: The Story of the Great Influenza Pandemic...   \n",
       "4  0393045218                             The Mummies of Urumchi   \n",
       "\n",
       "            book_author year_of_publication                   publisher  \\\n",
       "0    Mark P. O. Morford                2002     Oxford University Press   \n",
       "1  Richard Bruce Wright                2001       HarperFlamingo Canada   \n",
       "2          Carlo D'Este                1991             HarperPerennial   \n",
       "3      Gina Bari Kolata                1999        Farrar Straus Giroux   \n",
       "4       E. J. W. Barber                1999  W. W. Norton &amp; Company   \n",
       "\n",
       "                                         image_url_s  \\\n",
       "0  http://images.amazon.com/images/P/0195153448.0...   \n",
       "1  http://images.amazon.com/images/P/0002005018.0...   \n",
       "2  http://images.amazon.com/images/P/0060973129.0...   \n",
       "3  http://images.amazon.com/images/P/0374157065.0...   \n",
       "4  http://images.amazon.com/images/P/0393045218.0...   \n",
       "\n",
       "                                         image_url_m  \\\n",
       "0  http://images.amazon.com/images/P/0195153448.0...   \n",
       "1  http://images.amazon.com/images/P/0002005018.0...   \n",
       "2  http://images.amazon.com/images/P/0060973129.0...   \n",
       "3  http://images.amazon.com/images/P/0374157065.0...   \n",
       "4  http://images.amazon.com/images/P/0393045218.0...   \n",
       "\n",
       "                                         image_url_l  \\\n",
       "0  http://images.amazon.com/images/P/0195153448.0...   \n",
       "1  http://images.amazon.com/images/P/0002005018.0...   \n",
       "2  http://images.amazon.com/images/P/0060973129.0...   \n",
       "3  http://images.amazon.com/images/P/0374157065.0...   \n",
       "4  http://images.amazon.com/images/P/0393045218.0...   \n",
       "\n",
       "                                           mod_title  \n",
       "0                                classical mythology  \n",
       "1                                       clara callan  \n",
       "2                               decision in normandy  \n",
       "3  flu the story of the great influenza pandemic ...  \n",
       "4                             the mummies of urumchi  "
      ]
     },
     "execution_count": 12,
     "metadata": {},
     "output_type": "execute_result"
    }
   ],
   "source": [
    "df_books.head()"
   ]
  },
  {
   "cell_type": "markdown",
   "metadata": {},
   "source": [
    "### See the shape of the data"
   ]
  },
  {
   "cell_type": "code",
   "execution_count": 13,
   "metadata": {},
   "outputs": [
    {
     "data": {
      "text/plain": [
       "(271360, 9)"
      ]
     },
     "execution_count": 13,
     "metadata": {},
     "output_type": "execute_result"
    }
   ],
   "source": [
    "df_books.shape"
   ]
  },
  {
   "cell_type": "markdown",
   "metadata": {},
   "source": [
    "### Check column datatypes and any non-value columns"
   ]
  },
  {
   "cell_type": "code",
   "execution_count": 14,
   "metadata": {},
   "outputs": [
    {
     "name": "stdout",
     "output_type": "stream",
     "text": [
      "<class 'pandas.core.frame.DataFrame'>\n",
      "RangeIndex: 271360 entries, 0 to 271359\n",
      "Data columns (total 9 columns):\n",
      " #   Column               Non-Null Count   Dtype \n",
      "---  ------               --------------   ----- \n",
      " 0   isbn                 271360 non-null  object\n",
      " 1   book_title           271360 non-null  object\n",
      " 2   book_author          271359 non-null  object\n",
      " 3   year_of_publication  271360 non-null  object\n",
      " 4   publisher            271358 non-null  object\n",
      " 5   image_url_s          271360 non-null  object\n",
      " 6   image_url_m          271360 non-null  object\n",
      " 7   image_url_l          271357 non-null  object\n",
      " 8   mod_title            271360 non-null  object\n",
      "dtypes: object(9)\n",
      "memory usage: 18.6+ MB\n"
     ]
    }
   ],
   "source": [
    "df_books.info()"
   ]
  },
  {
   "cell_type": "code",
   "execution_count": 15,
   "metadata": {},
   "outputs": [
    {
     "data": {
      "text/plain": [
       "(271360, 9)"
      ]
     },
     "execution_count": 15,
     "metadata": {},
     "output_type": "execute_result"
    }
   ],
   "source": [
    "df_books.shape"
   ]
  },
  {
   "cell_type": "code",
   "execution_count": 16,
   "metadata": {},
   "outputs": [],
   "source": [
    "df_books[\"year_of_publication\"] = pd.to_datetime(df_books[\"year_of_publication\"], errors=\"coerce\", format=\"%Y\")"
   ]
  },
  {
   "cell_type": "code",
   "execution_count": 17,
   "metadata": {},
   "outputs": [
    {
     "data": {
      "text/plain": [
       "isbn                      0\n",
       "book_title                0\n",
       "book_author               1\n",
       "year_of_publication    4623\n",
       "publisher                 2\n",
       "image_url_s               0\n",
       "image_url_m               0\n",
       "image_url_l               3\n",
       "mod_title                 0\n",
       "dtype: int64"
      ]
     },
     "execution_count": 17,
     "metadata": {},
     "output_type": "execute_result"
    }
   ],
   "source": [
    "df_books.isnull().sum()"
   ]
  },
  {
   "cell_type": "code",
   "execution_count": 18,
   "metadata": {},
   "outputs": [
    {
     "data": {
      "text/plain": [
       "0"
      ]
     },
     "execution_count": 18,
     "metadata": {},
     "output_type": "execute_result"
    }
   ],
   "source": [
    "df_books.duplicated().sum()"
   ]
  },
  {
   "cell_type": "code",
   "execution_count": 19,
   "metadata": {},
   "outputs": [
    {
     "data": {
      "text/plain": [
       "(266734, 9)"
      ]
     },
     "execution_count": 19,
     "metadata": {},
     "output_type": "execute_result"
    }
   ],
   "source": [
    "df_books.dropna(inplace=True)\n",
    "df_books[\"year_of_publication\"] = df_books[\"year_of_publication\"].dt.strftime(\"%Y\").astype(\"int\")\n",
    "df_books.shape"
   ]
  },
  {
   "cell_type": "markdown",
   "metadata": {},
   "source": [
    "### Data Visualization\n",
    "\n",
    "Histograms for the numerical data"
   ]
  },
  {
   "cell_type": "code",
   "execution_count": 20,
   "metadata": {},
   "outputs": [
    {
     "data": {
      "image/png": "[encoded data removed]",
      "text/plain": [
       "<Figure size 1000x400 with 1 Axes>"
      ]
     },
     "metadata": {},
     "output_type": "display_data"
    }
   ],
   "source": [
    "df_books.hist(bins=10, figsize=(10,4))\n",
    "plt.show()"
   ]
  },
  {
   "cell_type": "code",
   "execution_count": 21,
   "metadata": {},
   "outputs": [
    {
     "data": {
      "text/html": [
       "<div>\n",
       "<style scoped>\n",
       "    .dataframe tbody tr th:only-of-type {\n",
       "        vertical-align: middle;\n",
       "    }\n",
       "\n",
       "    .dataframe tbody tr th {\n",
       "        vertical-align: top;\n",
       "    }\n",
       "\n",
       "    .dataframe thead th {\n",
       "        text-align: right;\n",
       "    }\n",
       "</style>\n",
       "<table border=\"1\" class=\"dataframe\">\n",
       "  <thead>\n",
       "    <tr style=\"text-align: right;\">\n",
       "      <th></th>\n",
       "      <th>isbn</th>\n",
       "      <th>book_title</th>\n",
       "      <th>book_author</th>\n",
       "      <th>year_of_publication</th>\n",
       "      <th>publisher</th>\n",
       "      <th>image_url_s</th>\n",
       "      <th>image_url_m</th>\n",
       "      <th>image_url_l</th>\n",
       "      <th>mod_title</th>\n",
       "    </tr>\n",
       "  </thead>\n",
       "  <tbody>\n",
       "    <tr>\n",
       "      <th>0</th>\n",
       "      <td>0195153448</td>\n",
       "      <td>Classical Mythology</td>\n",
       "      <td>Mark P. O. Morford</td>\n",
       "      <td>2002</td>\n",
       "      <td>Oxford University Press</td>\n",
       "      <td>http://images.amazon.com/images/P/0195153448.0...</td>\n",
       "      <td>http://images.amazon.com/images/P/0195153448.0...</td>\n",
       "      <td>http://images.amazon.com/images/P/0195153448.0...</td>\n",
       "      <td>classical mythology</td>\n",
       "    </tr>\n",
       "    <tr>\n",
       "      <th>1</th>\n",
       "      <td>0002005018</td>\n",
       "      <td>Clara Callan</td>\n",
       "      <td>Richard Bruce Wright</td>\n",
       "      <td>2001</td>\n",
       "      <td>HarperFlamingo Canada</td>\n",
       "      <td>http://images.amazon.com/images/P/0002005018.0...</td>\n",
       "      <td>http://images.amazon.com/images/P/0002005018.0...</td>\n",
       "      <td>http://images.amazon.com/images/P/0002005018.0...</td>\n",
       "      <td>clara callan</td>\n",
       "    </tr>\n",
       "    <tr>\n",
       "      <th>2</th>\n",
       "      <td>0060973129</td>\n",
       "      <td>Decision in Normandy</td>\n",
       "      <td>Carlo D'Este</td>\n",
       "      <td>1991</td>\n",
       "      <td>HarperPerennial</td>\n",
       "      <td>http://images.amazon.com/images/P/0060973129.0...</td>\n",
       "      <td>http://images.amazon.com/images/P/0060973129.0...</td>\n",
       "      <td>http://images.amazon.com/images/P/0060973129.0...</td>\n",
       "      <td>decision in normandy</td>\n",
       "    </tr>\n",
       "    <tr>\n",
       "      <th>3</th>\n",
       "      <td>0374157065</td>\n",
       "      <td>Flu: The Story of the Great Influenza Pandemic...</td>\n",
       "      <td>Gina Bari Kolata</td>\n",
       "      <td>1999</td>\n",
       "      <td>Farrar Straus Giroux</td>\n",
       "      <td>http://images.amazon.com/images/P/0374157065.0...</td>\n",
       "      <td>http://images.amazon.com/images/P/0374157065.0...</td>\n",
       "      <td>http://images.amazon.com/images/P/0374157065.0...</td>\n",
       "      <td>flu the story of the great influenza pandemic ...</td>\n",
       "    </tr>\n",
       "    <tr>\n",
       "      <th>4</th>\n",
       "      <td>0393045218</td>\n",
       "      <td>The Mummies of Urumchi</td>\n",
       "      <td>E. J. W. Barber</td>\n",
       "      <td>1999</td>\n",
       "      <td>W. W. Norton &amp;amp; Company</td>\n",
       "      <td>http://images.amazon.com/images/P/0393045218.0...</td>\n",
       "      <td>http://images.amazon.com/images/P/0393045218.0...</td>\n",
       "      <td>http://images.amazon.com/images/P/0393045218.0...</td>\n",
       "      <td>the mummies of urumchi</td>\n",
       "    </tr>\n",
       "  </tbody>\n",
       "</table>\n",
       "</div>"
      ],
      "text/plain": [
       "         isbn                                         book_title  \\\n",
       "0  0195153448                                Classical Mythology   \n",
       "1  0002005018                                       Clara Callan   \n",
       "2  0060973129                               Decision in Normandy   \n",
       "3  0374157065  Flu: The Story of the Great Influenza Pandemic...   \n",
       "4  0393045218                             The Mummies of Urumchi   \n",
       "\n",
       "            book_author  year_of_publication                   publisher  \\\n",
       "0    Mark P. O. Morford                 2002     Oxford University Press   \n",
       "1  Richard Bruce Wright                 2001       HarperFlamingo Canada   \n",
       "2          Carlo D'Este                 1991             HarperPerennial   \n",
       "3      Gina Bari Kolata                 1999        Farrar Straus Giroux   \n",
       "4       E. J. W. Barber                 1999  W. W. Norton &amp; Company   \n",
       "\n",
       "                                         image_url_s  \\\n",
       "0  http://images.amazon.com/images/P/0195153448.0...   \n",
       "1  http://images.amazon.com/images/P/0002005018.0...   \n",
       "2  http://images.amazon.com/images/P/0060973129.0...   \n",
       "3  http://images.amazon.com/images/P/0374157065.0...   \n",
       "4  http://images.amazon.com/images/P/0393045218.0...   \n",
       "\n",
       "                                         image_url_m  \\\n",
       "0  http://images.amazon.com/images/P/0195153448.0...   \n",
       "1  http://images.amazon.com/images/P/0002005018.0...   \n",
       "2  http://images.amazon.com/images/P/0060973129.0...   \n",
       "3  http://images.amazon.com/images/P/0374157065.0...   \n",
       "4  http://images.amazon.com/images/P/0393045218.0...   \n",
       "\n",
       "                                         image_url_l  \\\n",
       "0  http://images.amazon.com/images/P/0195153448.0...   \n",
       "1  http://images.amazon.com/images/P/0002005018.0...   \n",
       "2  http://images.amazon.com/images/P/0060973129.0...   \n",
       "3  http://images.amazon.com/images/P/0374157065.0...   \n",
       "4  http://images.amazon.com/images/P/0393045218.0...   \n",
       "\n",
       "                                           mod_title  \n",
       "0                                classical mythology  \n",
       "1                                       clara callan  \n",
       "2                               decision in normandy  \n",
       "3  flu the story of the great influenza pandemic ...  \n",
       "4                             the mummies of urumchi  "
      ]
     },
     "execution_count": 21,
     "metadata": {},
     "output_type": "execute_result"
    }
   ],
   "source": [
    "df_books.head()"
   ]
  },
  {
   "cell_type": "markdown",
   "metadata": {},
   "source": [
    "### Building A Book Search Engine for books we like against book titles\n",
    "\n",
    "#### Terminology\n",
    "\n",
    "- **Term frequency matrix**: Takes all the unique words across all the titles and each one into a columnar matrix.\n",
    "- **Inverse Document Frequency Matrix**: Then construct an inverse document frequency matrix. To minimize the impact of very common words.\n",
    "- **Tfidf matrix**: Tf*idf\n",
    "- Then find similarity to titles\n",
    "\n",
    "**Tfidf Concept**\n",
    "\n",
    "Resources:\n",
    "- https://www.youtube.com/watch?v=x-alwfgQ-cY\n",
    "- https://scikit-learn.org/stable/modules/generated/sklearn.feature_extraction.text.TfidfVectorizer.html\n",
    "- https://medium.com/@cmukesh8688/tf-idf-vectorizer-scikit-learn-dbc0244a911a\n",
    "- https://kavita-ganesan.com/tfidftransformer-tfidfvectorizer-usage-differences/"
   ]
  },
  {
   "cell_type": "code",
   "execution_count": 24,
   "metadata": {},
   "outputs": [],
   "source": [
    "from sklearn.feature_extraction.text import TfidfVectorizer"
   ]
  },
  {
   "cell_type": "code",
   "execution_count": 25,
   "metadata": {},
   "outputs": [],
   "source": [
    "vectorizer = TfidfVectorizer()\n",
    "tfidf = vectorizer.fit_transform(df_books[\"mod_title\"])"
   ]
  },
  {
   "cell_type": "code",
   "execution_count": 28,
   "metadata": {},
   "outputs": [
    {
     "name": "stdout",
     "output_type": "stream",
     "text": [
      "['classical mythology', 'clara callan', 'decision in normandy', 'flu the story of the great influenza pandemic of 1918 and the search for the virus that caused it', 'the mummies of urumchi', 'the kitchen gods wife', 'what if the worlds foremost military historians imagine what might have been', 'pleading guilty', 'under the black flag the romance and the reality of life among the pirates', 'where youll find me and other stories', 'nights below station street', 'hitlers secret bankers the myth of swiss neutrality during the holocaust', 'the middle stories', 'jane doe', 'a second chicken soup for the womans soul chicken soup for the soul series', 'the witchfinder amos walker mystery series', 'more cunning than man a social history of rats and man', 'goodbye to the buttermilk sky', 'the testament', 'beloved plume contemporary fiction']\n"
     ]
    }
   ],
   "source": [
    "print(list(df_books[\"mod_title\"].iloc[:20].values))"
   ]
  },
  {
   "cell_type": "markdown",
   "metadata": {},
   "source": [
    "#### Turn a search query into vector and match it against the matrix and do a comparison"
   ]
  },
  {
   "cell_type": "code",
   "execution_count": 26,
   "metadata": {},
   "outputs": [],
   "source": [
    "from sklearn.metrics.pairwise import cosine_similarity\n",
    "import re"
   ]
  },
  {
   "cell_type": "code",
   "execution_count": 29,
   "metadata": {},
   "outputs": [],
   "source": [
    "query = \"The mummies\"\n",
    "processed = re.sub(\"[^a-zA-Z0-9 ]\", \"\", query.lower())\n",
    "query_vec = vectorizer.transform([processed])\n",
    "similarity = cosine_similarity(query_vec, tfidf).flatten()"
   ]
  },
  {
   "cell_type": "code",
   "execution_count": 30,
   "metadata": {},
   "outputs": [
    {
     "data": {
      "text/plain": [
       "array([0.        , 0.        , 0.        , ..., 0.04975467, 0.        ,\n",
       "       0.01074744])"
      ]
     },
     "execution_count": 30,
     "metadata": {},
     "output_type": "execute_result"
    }
   ],
   "source": [
    "similarity"
   ]
  },
  {
   "cell_type": "code",
   "execution_count": 33,
   "metadata": {},
   "outputs": [],
   "source": [
    "## Get the top 10 similarity indices and index them against the titles\n",
    "indices = np.argpartition(similarity, -10)[-10:]\n",
    "results = df_books.iloc[indices]"
   ]
  },
  {
   "cell_type": "code",
   "execution_count": 34,
   "metadata": {},
   "outputs": [
    {
     "data": {
      "text/html": [
       "<div>\n",
       "<style scoped>\n",
       "    .dataframe tbody tr th:only-of-type {\n",
       "        vertical-align: middle;\n",
       "    }\n",
       "\n",
       "    .dataframe tbody tr th {\n",
       "        vertical-align: top;\n",
       "    }\n",
       "\n",
       "    .dataframe thead th {\n",
       "        text-align: right;\n",
       "    }\n",
       "</style>\n",
       "<table border=\"1\" class=\"dataframe\">\n",
       "  <thead>\n",
       "    <tr style=\"text-align: right;\">\n",
       "      <th></th>\n",
       "      <th>isbn</th>\n",
       "      <th>book_title</th>\n",
       "      <th>book_author</th>\n",
       "      <th>year_of_publication</th>\n",
       "      <th>publisher</th>\n",
       "      <th>image_url_s</th>\n",
       "      <th>image_url_m</th>\n",
       "      <th>image_url_l</th>\n",
       "      <th>mod_title</th>\n",
       "    </tr>\n",
       "  </thead>\n",
       "  <tbody>\n",
       "    <tr>\n",
       "      <th>269241</th>\n",
       "      <td>031205131X</td>\n",
       "      <td>Mummies of the Pharaohs: Modern Medical Invest...</td>\n",
       "      <td>Maurice Bucaille</td>\n",
       "      <td>1990</td>\n",
       "      <td>St. Martin's Press</td>\n",
       "      <td>http://images.amazon.com/images/P/031205131X.0...</td>\n",
       "      <td>http://images.amazon.com/images/P/031205131X.0...</td>\n",
       "      <td>http://images.amazon.com/images/P/031205131X.0...</td>\n",
       "      <td>mummies of the pharaohs modern medical investi...</td>\n",
       "    </tr>\n",
       "    <tr>\n",
       "      <th>197891</th>\n",
       "      <td>0590448897</td>\n",
       "      <td>101 Wacky Facts About Mummies</td>\n",
       "      <td>Jack C. Harris</td>\n",
       "      <td>1992</td>\n",
       "      <td>Scholastic Paperbacks (Mm)</td>\n",
       "      <td>http://images.amazon.com/images/P/0590448897.0...</td>\n",
       "      <td>http://images.amazon.com/images/P/0590448897.0...</td>\n",
       "      <td>http://images.amazon.com/images/P/0590448897.0...</td>\n",
       "      <td>101 wacky facts about mummies</td>\n",
       "    </tr>\n",
       "    <tr>\n",
       "      <th>31509</th>\n",
       "      <td>0307264025</td>\n",
       "      <td>Mile 4:  Mummies</td>\n",
       "      <td>EDITH KUNHARDT DAVIS</td>\n",
       "      <td>1999</td>\n",
       "      <td>Golden Books</td>\n",
       "      <td>http://images.amazon.com/images/P/0307264025.0...</td>\n",
       "      <td>http://images.amazon.com/images/P/0307264025.0...</td>\n",
       "      <td>http://images.amazon.com/images/P/0307264025.0...</td>\n",
       "      <td>mile 4 mummies</td>\n",
       "    </tr>\n",
       "    <tr>\n",
       "      <th>60551</th>\n",
       "      <td>0679824243</td>\n",
       "      <td>Mummies in the Morning (Magic Tree House, Book 3)</td>\n",
       "      <td>Mary Pope Osborne</td>\n",
       "      <td>1993</td>\n",
       "      <td>Random House Children's Books</td>\n",
       "      <td>http://images.amazon.com/images/P/0679824243.0...</td>\n",
       "      <td>http://images.amazon.com/images/P/0679824243.0...</td>\n",
       "      <td>http://images.amazon.com/images/P/0679824243.0...</td>\n",
       "      <td>mummies in the morning magic tree house book 3</td>\n",
       "    </tr>\n",
       "    <tr>\n",
       "      <th>144733</th>\n",
       "      <td>0307201627</td>\n",
       "      <td>Mummies (Totally Weird)</td>\n",
       "      <td>Iqbal Hussain</td>\n",
       "      <td>1998</td>\n",
       "      <td>Golden Books</td>\n",
       "      <td>http://images.amazon.com/images/P/0307201627.0...</td>\n",
       "      <td>http://images.amazon.com/images/P/0307201627.0...</td>\n",
       "      <td>http://images.amazon.com/images/P/0307201627.0...</td>\n",
       "      <td>mummies totally weird</td>\n",
       "    </tr>\n",
       "    <tr>\n",
       "      <th>4</th>\n",
       "      <td>0393045218</td>\n",
       "      <td>The Mummies of Urumchi</td>\n",
       "      <td>E. J. W. Barber</td>\n",
       "      <td>1999</td>\n",
       "      <td>W. W. Norton &amp;amp; Company</td>\n",
       "      <td>http://images.amazon.com/images/P/0393045218.0...</td>\n",
       "      <td>http://images.amazon.com/images/P/0393045218.0...</td>\n",
       "      <td>http://images.amazon.com/images/P/0393045218.0...</td>\n",
       "      <td>the mummies of urumchi</td>\n",
       "    </tr>\n",
       "    <tr>\n",
       "      <th>174249</th>\n",
       "      <td>0816031088</td>\n",
       "      <td>Encyclopedia of Mummies</td>\n",
       "      <td>Bob Brier</td>\n",
       "      <td>1998</td>\n",
       "      <td>Facts on File</td>\n",
       "      <td>http://images.amazon.com/images/P/0816031088.0...</td>\n",
       "      <td>http://images.amazon.com/images/P/0816031088.0...</td>\n",
       "      <td>http://images.amazon.com/images/P/0816031088.0...</td>\n",
       "      <td>encyclopedia of mummies</td>\n",
       "    </tr>\n",
       "    <tr>\n",
       "      <th>245235</th>\n",
       "      <td>0064460118</td>\n",
       "      <td>Mummies Made in Egypt</td>\n",
       "      <td>Aliki</td>\n",
       "      <td>1985</td>\n",
       "      <td>HarperTrophy</td>\n",
       "      <td>http://images.amazon.com/images/P/0064460118.0...</td>\n",
       "      <td>http://images.amazon.com/images/P/0064460118.0...</td>\n",
       "      <td>http://images.amazon.com/images/P/0064460118.0...</td>\n",
       "      <td>mummies made in egypt</td>\n",
       "    </tr>\n",
       "    <tr>\n",
       "      <th>253765</th>\n",
       "      <td>0140052666</td>\n",
       "      <td>Mummies, Death and Life in Ancient Egypt</td>\n",
       "      <td>James Hamilton-Paterson</td>\n",
       "      <td>1979</td>\n",
       "      <td>Penguin USA</td>\n",
       "      <td>http://images.amazon.com/images/P/0140052666.0...</td>\n",
       "      <td>http://images.amazon.com/images/P/0140052666.0...</td>\n",
       "      <td>http://images.amazon.com/images/P/0140052666.0...</td>\n",
       "      <td>mummies death and life in ancient egypt</td>\n",
       "    </tr>\n",
       "    <tr>\n",
       "      <th>161987</th>\n",
       "      <td>0448413256</td>\n",
       "      <td>Mummies (All Aboard Reading)</td>\n",
       "      <td>Joyce Milton</td>\n",
       "      <td>1996</td>\n",
       "      <td>Grosset &amp;amp; Dunlap</td>\n",
       "      <td>http://images.amazon.com/images/P/0448413256.0...</td>\n",
       "      <td>http://images.amazon.com/images/P/0448413256.0...</td>\n",
       "      <td>http://images.amazon.com/images/P/0448413256.0...</td>\n",
       "      <td>mummies all aboard reading</td>\n",
       "    </tr>\n",
       "  </tbody>\n",
       "</table>\n",
       "</div>"
      ],
      "text/plain": [
       "              isbn                                         book_title  \\\n",
       "269241  031205131X  Mummies of the Pharaohs: Modern Medical Invest...   \n",
       "197891  0590448897                      101 Wacky Facts About Mummies   \n",
       "31509   0307264025                                   Mile 4:  Mummies   \n",
       "60551   0679824243  Mummies in the Morning (Magic Tree House, Book 3)   \n",
       "144733  0307201627                            Mummies (Totally Weird)   \n",
       "4       0393045218                             The Mummies of Urumchi   \n",
       "174249  0816031088                            Encyclopedia of Mummies   \n",
       "245235  0064460118                              Mummies Made in Egypt   \n",
       "253765  0140052666           Mummies, Death and Life in Ancient Egypt   \n",
       "161987  0448413256                       Mummies (All Aboard Reading)   \n",
       "\n",
       "                    book_author  year_of_publication  \\\n",
       "269241         Maurice Bucaille                 1990   \n",
       "197891           Jack C. Harris                 1992   \n",
       "31509      EDITH KUNHARDT DAVIS                 1999   \n",
       "60551         Mary Pope Osborne                 1993   \n",
       "144733            Iqbal Hussain                 1998   \n",
       "4               E. J. W. Barber                 1999   \n",
       "174249                Bob Brier                 1998   \n",
       "245235                    Aliki                 1985   \n",
       "253765  James Hamilton-Paterson                 1979   \n",
       "161987             Joyce Milton                 1996   \n",
       "\n",
       "                            publisher  \\\n",
       "269241             St. Martin's Press   \n",
       "197891     Scholastic Paperbacks (Mm)   \n",
       "31509                    Golden Books   \n",
       "60551   Random House Children's Books   \n",
       "144733                   Golden Books   \n",
       "4          W. W. Norton &amp; Company   \n",
       "174249                  Facts on File   \n",
       "245235                   HarperTrophy   \n",
       "253765                    Penguin USA   \n",
       "161987           Grosset &amp; Dunlap   \n",
       "\n",
       "                                              image_url_s  \\\n",
       "269241  http://images.amazon.com/images/P/031205131X.0...   \n",
       "197891  http://images.amazon.com/images/P/0590448897.0...   \n",
       "31509   http://images.amazon.com/images/P/0307264025.0...   \n",
       "60551   http://images.amazon.com/images/P/0679824243.0...   \n",
       "144733  http://images.amazon.com/images/P/0307201627.0...   \n",
       "4       http://images.amazon.com/images/P/0393045218.0...   \n",
       "174249  http://images.amazon.com/images/P/0816031088.0...   \n",
       "245235  http://images.amazon.com/images/P/0064460118.0...   \n",
       "253765  http://images.amazon.com/images/P/0140052666.0...   \n",
       "161987  http://images.amazon.com/images/P/0448413256.0...   \n",
       "\n",
       "                                              image_url_m  \\\n",
       "269241  http://images.amazon.com/images/P/031205131X.0...   \n",
       "197891  http://images.amazon.com/images/P/0590448897.0...   \n",
       "31509   http://images.amazon.com/images/P/0307264025.0...   \n",
       "60551   http://images.amazon.com/images/P/0679824243.0...   \n",
       "144733  http://images.amazon.com/images/P/0307201627.0...   \n",
       "4       http://images.amazon.com/images/P/0393045218.0...   \n",
       "174249  http://images.amazon.com/images/P/0816031088.0...   \n",
       "245235  http://images.amazon.com/images/P/0064460118.0...   \n",
       "253765  http://images.amazon.com/images/P/0140052666.0...   \n",
       "161987  http://images.amazon.com/images/P/0448413256.0...   \n",
       "\n",
       "                                              image_url_l  \\\n",
       "269241  http://images.amazon.com/images/P/031205131X.0...   \n",
       "197891  http://images.amazon.com/images/P/0590448897.0...   \n",
       "31509   http://images.amazon.com/images/P/0307264025.0...   \n",
       "60551   http://images.amazon.com/images/P/0679824243.0...   \n",
       "144733  http://images.amazon.com/images/P/0307201627.0...   \n",
       "4       http://images.amazon.com/images/P/0393045218.0...   \n",
       "174249  http://images.amazon.com/images/P/0816031088.0...   \n",
       "245235  http://images.amazon.com/images/P/0064460118.0...   \n",
       "253765  http://images.amazon.com/images/P/0140052666.0...   \n",
       "161987  http://images.amazon.com/images/P/0448413256.0...   \n",
       "\n",
       "                                                mod_title  \n",
       "269241  mummies of the pharaohs modern medical investi...  \n",
       "197891                      101 wacky facts about mummies  \n",
       "31509                                      mile 4 mummies  \n",
       "60551      mummies in the morning magic tree house book 3  \n",
       "144733                              mummies totally weird  \n",
       "4                                  the mummies of urumchi  \n",
       "174249                            encyclopedia of mummies  \n",
       "245235                              mummies made in egypt  \n",
       "253765            mummies death and life in ancient egypt  \n",
       "161987                         mummies all aboard reading  "
      ]
     },
     "execution_count": 34,
     "metadata": {},
     "output_type": "execute_result"
    }
   ],
   "source": [
    "results"
   ]
  },
  {
   "cell_type": "code",
   "execution_count": 48,
   "metadata": {},
   "outputs": [],
   "source": [
    "def make_clickable(val):\n",
    "    return '<a target=\"_blank\" href=\"{}\">See Image</a>'.format(val)\n",
    "\n",
    "\n",
    "def show_image(val):\n",
    "    return '<img src=\"{}\" width=50 />'.format(val)\n",
    "\n",
    "\n",
    "def search(query, vectorizer):\n",
    "    processed = re.sub(\"[^a-zA-Z0-9 ]\", \"\", query.lower())\n",
    "    query_vec = vectorizer.transform([processed])\n",
    "    similarity = cosine_similarity(query_vec, tfidf).flatten()\n",
    "    indices = np.argpartition(similarity, -20)[-20:]\n",
    "    results = df_books.iloc[indices]\n",
    "    results = results.sort_values(\"year_of_publication\", ascending=False)  # Get row with the highest year_of_publication\n",
    "    return results.head(10).style.format({\n",
    "        \"image_url_s\": show_image, \"image_url_m\": make_clickable, \"image_url_l\": make_clickable\n",
    "    })"
   ]
  },
  {
   "cell_type": "code",
   "execution_count": 56,
   "metadata": {},
   "outputs": [
    {
     "data": {
      "text/html": [
       "<style type=\"text/css\">\n",
       "</style>\n",
       "<table id=\"T_36d3c\">\n",
       "  <thead>\n",
       "    <tr>\n",
       "      <th class=\"blank level0\" >&nbsp;</th>\n",
       "      <th id=\"T_36d3c_level0_col0\" class=\"col_heading level0 col0\" >isbn</th>\n",
       "      <th id=\"T_36d3c_level0_col1\" class=\"col_heading level0 col1\" >book_title</th>\n",
       "      <th id=\"T_36d3c_level0_col2\" class=\"col_heading level0 col2\" >book_author</th>\n",
       "      <th id=\"T_36d3c_level0_col3\" class=\"col_heading level0 col3\" >year_of_publication</th>\n",
       "      <th id=\"T_36d3c_level0_col4\" class=\"col_heading level0 col4\" >publisher</th>\n",
       "      <th id=\"T_36d3c_level0_col5\" class=\"col_heading level0 col5\" >image_url_s</th>\n",
       "      <th id=\"T_36d3c_level0_col6\" class=\"col_heading level0 col6\" >image_url_m</th>\n",
       "      <th id=\"T_36d3c_level0_col7\" class=\"col_heading level0 col7\" >image_url_l</th>\n",
       "      <th id=\"T_36d3c_level0_col8\" class=\"col_heading level0 col8\" >mod_title</th>\n",
       "    </tr>\n",
       "  </thead>\n",
       "  <tbody>\n",
       "    <tr>\n",
       "      <th id=\"T_36d3c_level0_row0\" class=\"row_heading level0 row0\" >185911</th>\n",
       "      <td id=\"T_36d3c_row0_col0\" class=\"data row0 col0\" >0618273530</td>\n",
       "      <td id=\"T_36d3c_row0_col1\" class=\"data row0 col1\" >Testament</td>\n",
       "      <td id=\"T_36d3c_row0_col2\" class=\"data row0 col2\" >Nino Ricci</td>\n",
       "      <td id=\"T_36d3c_row0_col3\" class=\"data row0 col3\" >2003</td>\n",
       "      <td id=\"T_36d3c_row0_col4\" class=\"data row0 col4\" >Houghton Mifflin Company</td>\n",
       "      <td id=\"T_36d3c_row0_col5\" class=\"data row0 col5\" ><img src=\"http://images.amazon.com/images/P/0618273530.01.THUMBZZZ.jpg\" width=50 /></td>\n",
       "      <td id=\"T_36d3c_row0_col6\" class=\"data row0 col6\" ><a target=\"_blank\" href=\"http://images.amazon.com/images/P/0618273530.01.MZZZZZZZ.jpg\">See Image</a></td>\n",
       "      <td id=\"T_36d3c_row0_col7\" class=\"data row0 col7\" ><a target=\"_blank\" href=\"http://images.amazon.com/images/P/0618273530.01.LZZZZZZZ.jpg\">See Image</a></td>\n",
       "      <td id=\"T_36d3c_row0_col8\" class=\"data row0 col8\" >testament</td>\n",
       "    </tr>\n",
       "    <tr>\n",
       "      <th id=\"T_36d3c_level0_row1\" class=\"row_heading level0 row1\" >182247</th>\n",
       "      <td id=\"T_36d3c_row1_col0\" class=\"data row1 col0\" >0874869218</td>\n",
       "      <td id=\"T_36d3c_row1_col1\" class=\"data row1 col1\" >A Third Testament</td>\n",
       "      <td id=\"T_36d3c_row1_col2\" class=\"data row1 col2\" >Malcolm Muggeridge</td>\n",
       "      <td id=\"T_36d3c_row1_col3\" class=\"data row1 col3\" >2002</td>\n",
       "      <td id=\"T_36d3c_row1_col4\" class=\"data row1 col4\" >Plough Publishing House</td>\n",
       "      <td id=\"T_36d3c_row1_col5\" class=\"data row1 col5\" ><img src=\"http://images.amazon.com/images/P/0874869218.01.THUMBZZZ.jpg\" width=50 /></td>\n",
       "      <td id=\"T_36d3c_row1_col6\" class=\"data row1 col6\" ><a target=\"_blank\" href=\"http://images.amazon.com/images/P/0874869218.01.MZZZZZZZ.jpg\">See Image</a></td>\n",
       "      <td id=\"T_36d3c_row1_col7\" class=\"data row1 col7\" ><a target=\"_blank\" href=\"http://images.amazon.com/images/P/0874869218.01.LZZZZZZZ.jpg\">See Image</a></td>\n",
       "      <td id=\"T_36d3c_row1_col8\" class=\"data row1 col8\" >a third testament</td>\n",
       "    </tr>\n",
       "    <tr>\n",
       "      <th id=\"T_36d3c_level0_row2\" class=\"row_heading level0 row2\" >87906</th>\n",
       "      <td id=\"T_36d3c_row2_col0\" class=\"data row2 col0\" >2266110594</td>\n",
       "      <td id=\"T_36d3c_row2_col1\" class=\"data row2 col1\" >Le Testament</td>\n",
       "      <td id=\"T_36d3c_row2_col2\" class=\"data row2 col2\" >John Grisham</td>\n",
       "      <td id=\"T_36d3c_row2_col3\" class=\"data row2 col3\" >2002</td>\n",
       "      <td id=\"T_36d3c_row2_col4\" class=\"data row2 col4\" >Distribooks Inc</td>\n",
       "      <td id=\"T_36d3c_row2_col5\" class=\"data row2 col5\" ><img src=\"http://images.amazon.com/images/P/2266110594.01.THUMBZZZ.jpg\" width=50 /></td>\n",
       "      <td id=\"T_36d3c_row2_col6\" class=\"data row2 col6\" ><a target=\"_blank\" href=\"http://images.amazon.com/images/P/2266110594.01.MZZZZZZZ.jpg\">See Image</a></td>\n",
       "      <td id=\"T_36d3c_row2_col7\" class=\"data row2 col7\" ><a target=\"_blank\" href=\"http://images.amazon.com/images/P/2266110594.01.LZZZZZZZ.jpg\">See Image</a></td>\n",
       "      <td id=\"T_36d3c_row2_col8\" class=\"data row2 col8\" >le testament</td>\n",
       "    </tr>\n",
       "    <tr>\n",
       "      <th id=\"T_36d3c_level0_row3\" class=\"row_heading level0 row3\" >144171</th>\n",
       "      <td id=\"T_36d3c_row3_col0\" class=\"data row3 col0\" >0814625460</td>\n",
       "      <td id=\"T_36d3c_row3_col1\" class=\"data row3 col1\" >Women in the New Testament</td>\n",
       "      <td id=\"T_36d3c_row3_col2\" class=\"data row3 col2\" >Mary Ann Getty-Sullivan</td>\n",
       "      <td id=\"T_36d3c_row3_col3\" class=\"data row3 col3\" >2001</td>\n",
       "      <td id=\"T_36d3c_row3_col4\" class=\"data row3 col4\" >Liturgical Press</td>\n",
       "      <td id=\"T_36d3c_row3_col5\" class=\"data row3 col5\" ><img src=\"http://images.amazon.com/images/P/0814625460.01.THUMBZZZ.jpg\" width=50 /></td>\n",
       "      <td id=\"T_36d3c_row3_col6\" class=\"data row3 col6\" ><a target=\"_blank\" href=\"http://images.amazon.com/images/P/0814625460.01.MZZZZZZZ.jpg\">See Image</a></td>\n",
       "      <td id=\"T_36d3c_row3_col7\" class=\"data row3 col7\" ><a target=\"_blank\" href=\"http://images.amazon.com/images/P/0814625460.01.LZZZZZZZ.jpg\">See Image</a></td>\n",
       "      <td id=\"T_36d3c_row3_col8\" class=\"data row3 col8\" >women in the new testament</td>\n",
       "    </tr>\n",
       "    <tr>\n",
       "      <th id=\"T_36d3c_level0_row4\" class=\"row_heading level0 row4\" >33829</th>\n",
       "      <td id=\"T_36d3c_row4_col0\" class=\"data row4 col0\" >3453190025</td>\n",
       "      <td id=\"T_36d3c_row4_col1\" class=\"data row4 col1\" >Das Testament</td>\n",
       "      <td id=\"T_36d3c_row4_col2\" class=\"data row4 col2\" >John Grisham</td>\n",
       "      <td id=\"T_36d3c_row4_col3\" class=\"data row4 col3\" >2001</td>\n",
       "      <td id=\"T_36d3c_row4_col4\" class=\"data row4 col4\" >Wilhelm Heyne Verlag</td>\n",
       "      <td id=\"T_36d3c_row4_col5\" class=\"data row4 col5\" ><img src=\"http://images.amazon.com/images/P/3453190025.01.THUMBZZZ.jpg\" width=50 /></td>\n",
       "      <td id=\"T_36d3c_row4_col6\" class=\"data row4 col6\" ><a target=\"_blank\" href=\"http://images.amazon.com/images/P/3453190025.01.MZZZZZZZ.jpg\">See Image</a></td>\n",
       "      <td id=\"T_36d3c_row4_col7\" class=\"data row4 col7\" ><a target=\"_blank\" href=\"http://images.amazon.com/images/P/3453190025.01.LZZZZZZZ.jpg\">See Image</a></td>\n",
       "      <td id=\"T_36d3c_row4_col8\" class=\"data row4 col8\" >das testament</td>\n",
       "    </tr>\n",
       "    <tr>\n",
       "      <th id=\"T_36d3c_level0_row5\" class=\"row_heading level0 row5\" >67543</th>\n",
       "      <td id=\"T_36d3c_row5_col0\" class=\"data row5 col0\" >3453173090</td>\n",
       "      <td id=\"T_36d3c_row5_col1\" class=\"data row5 col1\" >Das Testament.</td>\n",
       "      <td id=\"T_36d3c_row5_col2\" class=\"data row5 col2\" >John Grisham</td>\n",
       "      <td id=\"T_36d3c_row5_col3\" class=\"data row5 col3\" >2000</td>\n",
       "      <td id=\"T_36d3c_row5_col4\" class=\"data row5 col4\" >Heyne</td>\n",
       "      <td id=\"T_36d3c_row5_col5\" class=\"data row5 col5\" ><img src=\"http://images.amazon.com/images/P/3453173090.01.THUMBZZZ.jpg\" width=50 /></td>\n",
       "      <td id=\"T_36d3c_row5_col6\" class=\"data row5 col6\" ><a target=\"_blank\" href=\"http://images.amazon.com/images/P/3453173090.01.MZZZZZZZ.jpg\">See Image</a></td>\n",
       "      <td id=\"T_36d3c_row5_col7\" class=\"data row5 col7\" ><a target=\"_blank\" href=\"http://images.amazon.com/images/P/3453173090.01.LZZZZZZZ.jpg\">See Image</a></td>\n",
       "      <td id=\"T_36d3c_row5_col8\" class=\"data row5 col8\" >das testament</td>\n",
       "    </tr>\n",
       "    <tr>\n",
       "      <th id=\"T_36d3c_level0_row6\" class=\"row_heading level0 row6\" >225346</th>\n",
       "      <td id=\"T_36d3c_row6_col0\" class=\"data row6 col0\" >1854790056</td>\n",
       "      <td id=\"T_36d3c_row6_col1\" class=\"data row6 col1\" >Testament: Bible and History</td>\n",
       "      <td id=\"T_36d3c_row6_col2\" class=\"data row6 col2\" >John Romer</td>\n",
       "      <td id=\"T_36d3c_row6_col3\" class=\"data row6 col3\" >1999</td>\n",
       "      <td id=\"T_36d3c_row6_col4\" class=\"data row6 col4\" >Michael O'Mara Books</td>\n",
       "      <td id=\"T_36d3c_row6_col5\" class=\"data row6 col5\" ><img src=\"http://images.amazon.com/images/P/1854790056.01.THUMBZZZ.jpg\" width=50 /></td>\n",
       "      <td id=\"T_36d3c_row6_col6\" class=\"data row6 col6\" ><a target=\"_blank\" href=\"http://images.amazon.com/images/P/1854790056.01.MZZZZZZZ.jpg\">See Image</a></td>\n",
       "      <td id=\"T_36d3c_row6_col7\" class=\"data row6 col7\" ><a target=\"_blank\" href=\"http://images.amazon.com/images/P/1854790056.01.LZZZZZZZ.jpg\">See Image</a></td>\n",
       "      <td id=\"T_36d3c_row6_col8\" class=\"data row6 col8\" >testament bible and history</td>\n",
       "    </tr>\n",
       "    <tr>\n",
       "      <th id=\"T_36d3c_level0_row7\" class=\"row_heading level0 row7\" >949</th>\n",
       "      <td id=\"T_36d3c_row7_col0\" class=\"data row7 col0\" >0385493800</td>\n",
       "      <td id=\"T_36d3c_row7_col1\" class=\"data row7 col1\" >The Testament</td>\n",
       "      <td id=\"T_36d3c_row7_col2\" class=\"data row7 col2\" >John Grisham</td>\n",
       "      <td id=\"T_36d3c_row7_col3\" class=\"data row7 col3\" >1999</td>\n",
       "      <td id=\"T_36d3c_row7_col4\" class=\"data row7 col4\" >Doubleday Books</td>\n",
       "      <td id=\"T_36d3c_row7_col5\" class=\"data row7 col5\" ><img src=\"http://images.amazon.com/images/P/0385493800.01.THUMBZZZ.jpg\" width=50 /></td>\n",
       "      <td id=\"T_36d3c_row7_col6\" class=\"data row7 col6\" ><a target=\"_blank\" href=\"http://images.amazon.com/images/P/0385493800.01.MZZZZZZZ.jpg\">See Image</a></td>\n",
       "      <td id=\"T_36d3c_row7_col7\" class=\"data row7 col7\" ><a target=\"_blank\" href=\"http://images.amazon.com/images/P/0385493800.01.LZZZZZZZ.jpg\">See Image</a></td>\n",
       "      <td id=\"T_36d3c_row7_col8\" class=\"data row7 col8\" >the testament</td>\n",
       "    </tr>\n",
       "    <tr>\n",
       "      <th id=\"T_36d3c_level0_row8\" class=\"row_heading level0 row8\" >4315</th>\n",
       "      <td id=\"T_36d3c_row8_col0\" class=\"data row8 col0\" >0099245027</td>\n",
       "      <td id=\"T_36d3c_row8_col1\" class=\"data row8 col1\" >The Testament</td>\n",
       "      <td id=\"T_36d3c_row8_col2\" class=\"data row8 col2\" >John Grisham</td>\n",
       "      <td id=\"T_36d3c_row8_col3\" class=\"data row8 col3\" >1999</td>\n",
       "      <td id=\"T_36d3c_row8_col4\" class=\"data row8 col4\" >Trafalgar Square</td>\n",
       "      <td id=\"T_36d3c_row8_col5\" class=\"data row8 col5\" ><img src=\"http://images.amazon.com/images/P/0099245027.01.THUMBZZZ.jpg\" width=50 /></td>\n",
       "      <td id=\"T_36d3c_row8_col6\" class=\"data row8 col6\" ><a target=\"_blank\" href=\"http://images.amazon.com/images/P/0099245027.01.MZZZZZZZ.jpg\">See Image</a></td>\n",
       "      <td id=\"T_36d3c_row8_col7\" class=\"data row8 col7\" ><a target=\"_blank\" href=\"http://images.amazon.com/images/P/0099245027.01.LZZZZZZZ.jpg\">See Image</a></td>\n",
       "      <td id=\"T_36d3c_row8_col8\" class=\"data row8 col8\" >the testament</td>\n",
       "    </tr>\n",
       "    <tr>\n",
       "      <th id=\"T_36d3c_level0_row9\" class=\"row_heading level0 row9\" >186707</th>\n",
       "      <td id=\"T_36d3c_row9_col0\" class=\"data row9 col0\" >0805211152</td>\n",
       "      <td id=\"T_36d3c_row9_col1\" class=\"data row9 col1\" >The Testament</td>\n",
       "      <td id=\"T_36d3c_row9_col2\" class=\"data row9 col2\" >Elie Wiesel</td>\n",
       "      <td id=\"T_36d3c_row9_col3\" class=\"data row9 col3\" >1999</td>\n",
       "      <td id=\"T_36d3c_row9_col4\" class=\"data row9 col4\" >Schocken Books</td>\n",
       "      <td id=\"T_36d3c_row9_col5\" class=\"data row9 col5\" ><img src=\"http://images.amazon.com/images/P/0805211152.01.THUMBZZZ.jpg\" width=50 /></td>\n",
       "      <td id=\"T_36d3c_row9_col6\" class=\"data row9 col6\" ><a target=\"_blank\" href=\"http://images.amazon.com/images/P/0805211152.01.MZZZZZZZ.jpg\">See Image</a></td>\n",
       "      <td id=\"T_36d3c_row9_col7\" class=\"data row9 col7\" ><a target=\"_blank\" href=\"http://images.amazon.com/images/P/0805211152.01.LZZZZZZZ.jpg\">See Image</a></td>\n",
       "      <td id=\"T_36d3c_row9_col8\" class=\"data row9 col8\" >the testament</td>\n",
       "    </tr>\n",
       "  </tbody>\n",
       "</table>\n"
      ],
      "text/plain": [
       "<pandas.io.formats.style.Styler at 0x13264bb80>"
      ]
     },
     "execution_count": 56,
     "metadata": {},
     "output_type": "execute_result"
    }
   ],
   "source": [
    "query = \"testament\"\n",
    "results = search(query, vectorizer)\n",
    "results"
   ]
  },
  {
   "cell_type": "markdown",
   "metadata": {},
   "source": [
    "### Creating a list of isbn of  books that we like"
   ]
  },
  {
   "cell_type": "code",
   "execution_count": 57,
   "metadata": {},
   "outputs": [],
   "source": [
    "liked_books = [\"0596000855\", \"0596001290\", \"0072225599\", \"0618273530\", \"0814625460\"]"
   ]
  },
  {
   "cell_type": "code",
   "execution_count": null,
   "metadata": {},
   "outputs": [],
   "source": []
  }
 ],
 "metadata": {
  "kernelspec": {
   "display_name": "book_recommendation_systems-nwPXjbHn",
   "language": "python",
   "name": "book_recommendation_systems-nwpxjbhn"
  },
  "language_info": {
   "codemirror_mode": {
    "name": "ipython",
    "version": 3
   },
   "file_extension": ".py",
   "mimetype": "text/x-python",
   "name": "python",
   "nbconvert_exporter": "python",
   "pygments_lexer": "ipython3",
   "version": "3.9.13"
  }
 },
 "nbformat": 4,
 "nbformat_minor": 4
}
